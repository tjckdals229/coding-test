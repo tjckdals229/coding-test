{
 "cells": [
  {
   "cell_type": "code",
   "execution_count": null,
   "id": "b526ace7",
   "metadata": {},
   "outputs": [],
   "source": [
    "df1 = pd.DataFrame({'count': df['category_title'].value_counts(),\n",
    "                    'sum':df.groupby('category_title')['transaction_amount'].sum(), \n",
    "                    'mean': df.groupby('category_title')['transaction_amount'].mean(),\n",
    "                   'std': df.groupby('category_title')['transaction_amount'].std(),\n",
    "                  'min': df.groupby(['category_title'])['transaction_amount'].min(),\n",
    "                  'max' : df.groupby(['category_title'])['transaction_amount'].max(),\n",
    "                  'q25' : df.groupby(['category_title'])['transaction_amount'].quantile(0.25),\n",
    "                  'q75' : df.groupby(['category_title'])['transaction_amount'].quantile(0.75)}\n",
    "                 )"
   ]
  },
  {
   "cell_type": "code",
   "execution_count": null,
   "id": "c62de29e",
   "metadata": {},
   "outputs": [],
   "source": [
    "df1['iqr'] = df1['q75'] - df1['q25']\n",
    "df1['cut_off'] =  df1['iqr']*1.5\n",
    "df1['lower'] = df1['q25'] - df1['cut_off']\n",
    "df1['upper'] = df1['q75'] + df1['cut_off']"
   ]
  },
  {
   "cell_type": "code",
   "execution_count": null,
   "id": "85b56aad",
   "metadata": {},
   "outputs": [],
   "source": [
    "temp1 = df.loc[:,['category_title', 'transaction_amount']]"
   ]
  },
  {
   "cell_type": "code",
   "execution_count": null,
   "id": "0fd24470",
   "metadata": {},
   "outputs": [],
   "source": [
    "outlier = temp1.loc[(temp1['category_title']=='프로그래밍') & \n",
    "              (temp1['transaction_amount'] > df1.loc['프로그래밍', 'upper'])& \n",
    "              (temp1['transaction_amount'] < df1.loc['프로그래밍', 'lower']) , 'sale'].index"
   ]
  },
  {
   "cell_type": "code",
   "execution_count": null,
   "id": "5fbef50d",
   "metadata": {},
   "outputs": [],
   "source": [
    "for i in ['교육', '기타', '데이터사이언스', '디자인', '마케팅', '부동산/금융', '업무 생산성', '영상/3D',\n",
    "       '크리에이티브', '투자/재테크', '프로그래밍']:\n",
    "    outlier = temp1.loc[(temp1['category_title']==i) & \n",
    "              (temp1['transaction_amount'] > df1.loc[i, 'upper'])| \n",
    "              (temp1['transaction_amount'] < df1.loc[i, 'lower']) , 'transaction_amount'].index\n",
    "    temp1.drop(outlier, inplace = True)\n",
    "temp1"
   ]
  },
  {
   "cell_type": "code",
   "execution_count": null,
   "id": "061a4bc3",
   "metadata": {},
   "outputs": [],
   "source": [
    "df2 = pd.DataFrame({'count': temp1['category_title'].value_counts(),\n",
    "                    'sum':temp1.groupby('category_title')['transaction_amount'].sum(), \n",
    "                    'mean': temp1.groupby('category_title')['transaction_amount'].mean(),\n",
    "                   'std': temp1.groupby('category_title')['transaction_amount'].std(),\n",
    "                  'min': temp1.groupby(['category_title'])['transaction_amount'].min(),\n",
    "                  'max' : temp1.groupby(['category_title'])['transaction_amount'].max(),\n",
    "                  'q25' : temp1.groupby(['category_title'])['transaction_amount'].quantile(0.25),\n",
    "                  'q75' : temp1.groupby(['category_title'])['transaction_amount'].quantile(0.75)}\n",
    "                 )"
   ]
  },
  {
   "cell_type": "code",
   "execution_count": null,
   "id": "ec4a5120",
   "metadata": {},
   "outputs": [],
   "source": [
    "df2['iqr'] = df2['q75'] - df2['q25']\n",
    "df2['cut_off'] =  df2['iqr']*1.5\n",
    "df2['lower'] = df2['q25'] - df2['cut_off']\n",
    "df2['upper'] = df2['q75'] + df2['cut_off']"
   ]
  },
  {
   "cell_type": "code",
   "execution_count": null,
   "id": "c79d8fef",
   "metadata": {},
   "outputs": [],
   "source": [
    "df2['category'] = ['교육', '기타', '데이터사이언스', '디자인', '마케팅', '부동산/금융', '업무 생산성', '영상/3D',\n",
    "       '크리에이티브', '투자/재테크', '프로그래밍']\n",
    "df1['category'] = ['교육', '기타', '데이터사이언스', '디자인', '마케팅', '부동산/금융', '업무 생산성', '영상/3D',\n",
    "       '크리에이티브', '투자/재테크', '프로그래밍']\n",
    "df2 = df2.sort_values('sum', ascending = False)\n",
    "df2"
   ]
  },
  {
   "cell_type": "code",
   "execution_count": null,
   "id": "e8c4af75",
   "metadata": {},
   "outputs": [],
   "source": [
    "df2['outlier_count'] = df1['count'] - df2['count']\n",
    "df2['outlier_sum'] = df1['sum'] - df2['sum']"
   ]
  },
  {
   "cell_type": "code",
   "execution_count": null,
   "id": "d891db4b",
   "metadata": {},
   "outputs": [],
   "source": [
    "df2.loc[:,['outlier_count','outlier_sum']]"
   ]
  },
  {
   "cell_type": "code",
   "execution_count": null,
   "id": "1c1e7e5a",
   "metadata": {},
   "outputs": [],
   "source": [
    "temp2 = df2.loc[:, ['sum', 'outlier_sum']]"
   ]
  },
  {
   "cell_type": "code",
   "execution_count": null,
   "id": "ae6d6fb5",
   "metadata": {},
   "outputs": [],
   "source": [
    "temp2['diff'] = temp2['sum'] - temp2['outlier_sum']\n",
    "temp2['portion'] = (temp2['outlier_sum']) / (temp2['sum']+temp2['outlier_sum'])*100"
   ]
  },
  {
   "cell_type": "code",
   "execution_count": null,
   "id": "4896f0bb",
   "metadata": {},
   "outputs": [],
   "source": [
    "temp3 = df[df['type'] == 'REFUND'].groupby(by = 'category')['transaction'].agg(sum)"
   ]
  },
  {
   "cell_type": "code",
   "execution_count": null,
   "id": "0652ab89",
   "metadata": {},
   "outputs": [],
   "source": [
    "df2['Refund'] = abs(temp3)\n",
    "df1['Refund'] = abs(temp3)"
   ]
  },
  {
   "cell_type": "code",
   "execution_count": null,
   "id": "6cd8d208",
   "metadata": {},
   "outputs": [],
   "source": [
    "#1) 카테고리별 매출액 순위 \n",
    "plt.figure(figsize = [10,5])\n",
    "df2 = df2.sort_values('sum', ascending = False)\n",
    "sns.barplot(data=df2, x='category',y = 'sum')\n",
    "\n",
    "# => 주요 수입원은 -- 이다. "
   ]
  },
  {
   "cell_type": "code",
   "execution_count": null,
   "id": "c9cad510",
   "metadata": {},
   "outputs": [],
   "source": [
    "# 위에 대한 근거자료 // 전체 매출에서 각 카테고리의 비중\n",
    "plt.pie(df2['sum'], labels = df2['category'], autopct='%.1f%%', startangle = 260,\n",
    "       counterclock = False, shadow = True)\n",
    "plt.show()"
   ]
  },
  {
   "cell_type": "code",
   "execution_count": null,
   "id": "9933dabc",
   "metadata": {},
   "outputs": [],
   "source": [
    "# 카테고리별 수량 대비 매출액\n",
    "df2['perSale'] = df2['sum'] / df2['count']\n",
    "df2['perSale'].plot(kind = 'barh', y = 'category')"
   ]
  },
  {
   "cell_type": "code",
   "execution_count": null,
   "id": "733b0db0",
   "metadata": {},
   "outputs": [],
   "source": [
    "# 카테고리별 리펀드 비율 비교\n",
    "df2['Refund_rate'] = df2['Refund'] / df2['sum'] *100\n",
    "df2['Refund_rate']"
   ]
  },
  {
   "cell_type": "code",
   "execution_count": null,
   "id": "c0b804b5",
   "metadata": {},
   "outputs": [],
   "source": [
    "plt.figure(figsize = [10,5])\n",
    "df2 = df1.sort_values('sum', ascending = False) \n",
    "df2 = df2.sort_values('sum', ascending = False)\n",
    "sns.barplot(data=df2, x='category',y = 'Refund_rate')\n",
    "\n",
    "# => 환불 비율이 높은 마케팅과 크리에이티브, 또한 환불 총액이 높은 프로그래밍과 데이터사이언스에 대해\n",
    "#    환불을 줄일 만한 대책이 필요"
   ]
  },
  {
   "cell_type": "code",
   "execution_count": null,
   "id": "7191041f",
   "metadata": {},
   "outputs": [],
   "source": [
    "#3) Turkey Fence 방식을 사용한 각 카테고리 아웃라이어 비중\n",
    "sns.set_theme(style=\"whitegrid\")\n",
    "f, ax = plt.subplots(figsize=(6, 15))\n",
    "sns.set_color_codes(\"pastel\")\n",
    "sns.barplot(x=\"sum\", y=\"category\", data=df2,\n",
    "            label=\"category\", color=\"b\")\n",
    "sns.set_color_codes(\"muted\")\n",
    "sns.barplot(x=\"outlier_sum\", y=\"category\", data=df2,\n",
    "            label=\"category\", color=\"b\")\n",
    "\n",
    "#ax.legend(ncol=2, loc=\"lower right\", frameon=True)\n",
    "#ax.set(xlim=(0, 24), ylabel=\"\",\n",
    "#       xlabel=\"Automobile collisions per billion miles\")\n",
    "sns.despine(left=True, bottom=True)\n"
   ]
  }
 ],
 "metadata": {
  "kernelspec": {
   "display_name": "Python 3 (ipykernel)",
   "language": "python",
   "name": "python3"
  },
  "language_info": {
   "codemirror_mode": {
    "name": "ipython",
    "version": 3
   },
   "file_extension": ".py",
   "mimetype": "text/x-python",
   "name": "python",
   "nbconvert_exporter": "python",
   "pygments_lexer": "ipython3",
   "version": "3.9.7"
  }
 },
 "nbformat": 4,
 "nbformat_minor": 5
}
